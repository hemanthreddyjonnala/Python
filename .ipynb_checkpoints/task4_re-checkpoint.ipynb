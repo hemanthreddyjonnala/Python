{
 "cells": [
  {
   "cell_type": "code",
   "execution_count": 0,
   "metadata": {
    "colab": {},
    "colab_type": "code",
    "id": "XzLBLkG2YA4H"
   },
   "outputs": [],
   "source": [
    "'''complete entire re module'''\n",
    "''' if you are using any special modules please write steps how would you \n",
    "solve using inbuilt modules'''\n",
    "''' As ther will be restrictions using third party libraries in some\n",
    "work places'''"
   ]
  },
  {
   "cell_type": "code",
   "execution_count": 73,
   "metadata": {
    "colab": {},
    "colab_type": "code",
    "id": "ZuzchNbzXJia"
   },
   "outputs": [
    {
     "name": "stdout",
     "output_type": "stream",
     "text": [
      "['at', 't']\n",
      "att\n"
     ]
    },
    {
     "data": {
      "text/plain": [
       "'ATT'"
      ]
     },
     "execution_count": 73,
     "metadata": {},
     "output_type": "execute_result"
    }
   ],
   "source": [
    "'''1.from task3 2nd qustion'''\n",
    "# it should pass all test cases\n",
    "# at&t, at (t, t mobile, t- mobile, T-mobilet, at@ t\n",
    "# refer how to remove special character using re module\n",
    "def validate(passed_string):\n",
    "    split = re.split(r'[`\\-=~!@#$%^&*()_+\\[\\]{};\\'\\\\:\"|<,./<>?\\s]*', input_string)\n",
    "    print(split)\n",
    "    result = ''.join(split).lower()\n",
    "    print(result)\n",
    "    return 'ATT' if 'att' in result else 'TMOBILE' if 'tmobile' in result else 'Not Valid'\n",
    "\n",
    "\n",
    "input_string = 'at@ t'\n",
    "validate(input_string)"
   ]
  },
  {
   "cell_type": "code",
   "execution_count": 0,
   "metadata": {
    "colab": {},
    "colab_type": "code",
    "id": "tAjV3DncX-E7"
   },
   "outputs": [],
   "source": [
    "'''2. create a current resume with html version '''\n",
    "'''using only h, p, li, ul, a tags'''\n",
    "# resume.html"
   ]
  },
  {
   "cell_type": "code",
   "execution_count": 85,
   "metadata": {
    "colab": {},
    "colab_type": "code",
    "id": "oIrzy4InYweX"
   },
   "outputs": [
    {
     "data": {
      "text/plain": [
       "'2. someone gave you django project and you want to know what are all the modules\\nand version used for the project, how would you do that'"
      ]
     },
     "execution_count": 85,
     "metadata": {},
     "output_type": "execute_result"
    }
   ],
   "source": [
    "'''3. 1.find the function to list all modules of pyhton version\n",
    "'''\n",
    "# inspect module, pydoc module\n",
    "\n",
    "'''2. someone gave you django project and you want to know what are all the modules\n",
    "and version used for the project, how would you do that'''\n",
    "# Requirements files. To install all listed modules with specified versions, we can use pip install -r requirements.txt "
   ]
  },
  {
   "cell_type": "code",
   "execution_count": 83,
   "metadata": {
    "colab": {},
    "colab_type": "code",
    "id": "sJTIRqnccIPo"
   },
   "outputs": [
    {
     "name": "stdout",
     "output_type": "stream",
     "text": [
      "dkjshfa\n",
      "fsa112\n",
      "DKJSHFA\n",
      "FSA112\n",
      "False\n",
      "False\n",
      "True\n",
      "True\n",
      "True\n",
      "False\n"
     ]
    }
   ],
   "source": [
    "'''4. '''\n",
    "x = 'dkjshfa'\n",
    "y = 'fsa112'\n",
    "z = '12133'\n",
    "print(x.lower())\n",
    "print(y.lower())\n",
    "print(x.upper())\n",
    "print(y.upper())\n",
    "print(x.isnumeric())\n",
    "print(y.isnumeric())\n",
    "print(x.isalnum())\n",
    "print(y.isalnum())\n",
    "print(x.isalpha())\n",
    "print(y.isalpha())\n",
    "# convert x, y,z to small , upper, camel case, check whether numeric, alpahanumereic\n",
    "# or only aplaphabetical, whether it's upper or lower"
   ]
  },
  {
   "cell_type": "code",
   "execution_count": 76,
   "metadata": {
    "colab": {},
    "colab_type": "code",
    "id": "vi9vQuNiuT43"
   },
   "outputs": [
    {
     "data": {
      "text/plain": [
       "'00000094'"
      ]
     },
     "execution_count": 76,
     "metadata": {},
     "output_type": "execute_result"
    }
   ],
   "source": [
    "'''5. write a function'''\n",
    "# input can be string or integer\n",
    "# minimum output length has to be 8\n",
    "# if input has less than 8 it should put 0's infront\n",
    "# ex: 'jhr' output: '00000jhr'\n",
    "def zeros(str_int):\n",
    "    return '0'*(8 - len(str(str_int))) + str(str_int)\n",
    "\n",
    "input_str_int = 94\n",
    "zeros(input_str_int)\n",
    "   "
   ]
  },
  {
   "cell_type": "code",
   "execution_count": 25,
   "metadata": {
    "colab": {},
    "colab_type": "code",
    "id": "GAX0ePWUu8Uc"
   },
   "outputs": [
    {
     "ename": "NameError",
     "evalue": "name 'something' is not defined",
     "output_type": "error",
     "traceback": [
      "\u001b[0;31m---------------------------------------------------------------------------\u001b[0m",
      "\u001b[0;31mNameError\u001b[0m                                 Traceback (most recent call last)",
      "\u001b[0;32m<ipython-input-25-9c8f49e1b393>\u001b[0m in \u001b[0;36m<module>\u001b[0;34m\u001b[0m\n\u001b[1;32m      1\u001b[0m \u001b[0;34m'''6. create something that produces Name Error'''\u001b[0m\u001b[0;34m\u001b[0m\u001b[0;34m\u001b[0m\u001b[0m\n\u001b[0;32m----> 2\u001b[0;31m \u001b[0mprint\u001b[0m\u001b[0;34m(\u001b[0m\u001b[0msomething\u001b[0m\u001b[0;34m)\u001b[0m\u001b[0;34m\u001b[0m\u001b[0;34m\u001b[0m\u001b[0m\n\u001b[0m",
      "\u001b[0;31mNameError\u001b[0m: name 'something' is not defined"
     ]
    }
   ],
   "source": [
    "'''6. create something that produces Name Error'''\n",
    "print(something)"
   ]
  },
  {
   "cell_type": "code",
   "execution_count": 0,
   "metadata": {
    "colab": {},
    "colab_type": "code",
    "id": "xBxkqa-TwjB2"
   },
   "outputs": [],
   "source": [
    "'''7. create a module with one variable and one print statement\n",
    " try to access this variable from another module'''\n",
    "# example_module.py and main.py "
   ]
  },
  {
   "cell_type": "code",
   "execution_count": 3,
   "metadata": {
    "colab": {},
    "colab_type": "code",
    "id": "KLyo7rwkyaOZ"
   },
   "outputs": [
    {
     "name": "stdout",
     "output_type": "stream",
     "text": [
      "iamlearningpython\n"
     ]
    }
   ],
   "source": [
    "'''8. convert the following list one string without using for loop or \n",
    "comprehension''' \n",
    "x = ['i', 'am', 'learning', 'python']\n",
    "print(''.join(x))"
   ]
  },
  {
   "cell_type": "code",
   "execution_count": 23,
   "metadata": {
    "colab": {},
    "colab_type": "code",
    "id": "lOMxA2qy10o8"
   },
   "outputs": [
    {
     "data": {
      "text/plain": [
       "'12am3hdsfhk'"
      ]
     },
     "execution_count": 23,
     "metadata": {},
     "output_type": "execute_result"
    }
   ],
   "source": [
    "#9\n",
    "\n",
    "def to_string(lst):\n",
    "    return ''.join([str(x) if isinstance(x, int) else x for x in lst])\n",
    "\n",
    "y = [1,2,'am', '3', 'hdsfhk'] # convert into one string\n",
    "to_string(y)"
   ]
  },
  {
   "cell_type": "code",
   "execution_count": 51,
   "metadata": {
    "colab": {},
    "colab_type": "code",
    "id": "0hQW8A0V2Cf_"
   },
   "outputs": [
    {
     "data": {
      "text/plain": [
       "70000"
      ]
     },
     "execution_count": 51,
     "metadata": {},
     "output_type": "execute_result"
    }
   ],
   "source": [
    "'''10. Python allows you to create anonymous function \n",
    "i.e function having no names using a facility called lambda function.\n",
    "'''\n",
    "r = lambda x, y: x * y\n",
    "r(12, 3)   # call the lambda function\n",
    "\n",
    "\n",
    "# create a lamda function \n",
    "#1. to calculate a simple interest\n",
    "simple_interest = lambda p, r, t: p * (1 + (r*t))\n",
    "#2. create lamda function to add result of simple interest to lamda functio r\n",
    "r = lambda p, r, t: simple_interest(p, r, t)\n",
    "r(10000, 3, 2)"
   ]
  }
 ],
 "metadata": {
  "colab": {
   "collapsed_sections": [],
   "name": "task4_re.ipynb",
   "provenance": []
  },
  "kernelspec": {
   "display_name": "Python 3",
   "language": "python",
   "name": "python3"
  },
  "language_info": {
   "codemirror_mode": {
    "name": "ipython",
    "version": 3
   },
   "file_extension": ".py",
   "mimetype": "text/x-python",
   "name": "python",
   "nbconvert_exporter": "python",
   "pygments_lexer": "ipython3",
   "version": "3.6.8"
  }
 },
 "nbformat": 4,
 "nbformat_minor": 1
}
